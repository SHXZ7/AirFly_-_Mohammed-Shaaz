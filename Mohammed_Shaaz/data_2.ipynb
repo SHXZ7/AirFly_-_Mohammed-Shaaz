{
 "cells": [
  {
   "cell_type": "markdown",
   "id": "77a872e2",
   "metadata": {},
   "source": [
    "### 🧭 Week 2: Preprocessing and Feature Engineering\n",
    "\n",
    "**Goals**:\n",
    "• Handle nulls in delay and cancellation columns\n",
    "\n",
    "• Create derived features: Month, Day of Week, Hour, Route\n",
    "\n",
    "• Format datetime columns\n",
    "\n",
    "• Save preprocessed data for fast reuse\n",
    "\n",
    "\n",
    "**Deliverables**:\n",
    "\n",
    "• Cleaned dataset\n",
    "\n",
    "• Summary of preprocessing logic\n",
    "\n",
    "• Feature dictionary"
   ]
  },
  {
   "cell_type": "code",
   "execution_count": 2,
   "id": "f5c0af71",
   "metadata": {},
   "outputs": [],
   "source": [
    "import pandas as pd\n",
    "import numpy as np\n",
    "from pathlib import Path\n",
    "\n",
    "DATA_PATH = Path(\"dataset/DelayedFlights.csv\")\n",
    "OUT_DIR = Path(\"processed\")\n",
    "OUT_DIR.mkdir(exist_ok=True)\n"
   ]
  },
  {
   "cell_type": "code",
   "execution_count": 3,
   "id": "84db4f6d",
   "metadata": {},
   "outputs": [
    {
     "name": "stdout",
     "output_type": "stream",
     "text": [
      "['Unnamed: 0', 'Year', 'Month', 'DayofMonth', 'DayOfWeek', 'DepTime', 'CRSDepTime', 'ArrTime', 'CRSArrTime', 'UniqueCarrier', 'FlightNum', 'TailNum', 'ActualElapsedTime', 'CRSElapsedTime', 'AirTime', 'ArrDelay', 'DepDelay', 'Origin', 'Dest', 'Distance', 'TaxiIn', 'TaxiOut', 'Cancelled', 'CancellationCode', 'Diverted', 'CarrierDelay', 'WeatherDelay', 'NASDelay', 'SecurityDelay', 'LateAircraftDelay']\n",
      "Unnamed: 0             int64\n",
      "Year                   int64\n",
      "Month                  int64\n",
      "DayofMonth             int64\n",
      "DayOfWeek              int64\n",
      "DepTime              float64\n",
      "CRSDepTime             int64\n",
      "ArrTime              float64\n",
      "CRSArrTime             int64\n",
      "UniqueCarrier         object\n",
      "FlightNum              int64\n",
      "TailNum               object\n",
      "ActualElapsedTime    float64\n",
      "CRSElapsedTime       float64\n",
      "AirTime              float64\n",
      "ArrDelay             float64\n",
      "DepDelay             float64\n",
      "Origin                object\n",
      "Dest                  object\n",
      "Distance               int64\n",
      "TaxiIn               float64\n",
      "TaxiOut              float64\n",
      "Cancelled              int64\n",
      "CancellationCode      object\n",
      "Diverted               int64\n",
      "CarrierDelay         float64\n",
      "WeatherDelay         float64\n",
      "NASDelay             float64\n",
      "SecurityDelay        float64\n",
      "LateAircraftDelay    float64\n",
      "dtype: object\n"
     ]
    }
   ],
   "source": [
    "# quick peek\n",
    "df_head = pd.read_csv(DATA_PATH, nrows=5)\n",
    "print(df_head.columns.tolist())\n",
    "print(df_head.dtypes)\n"
   ]
  },
  {
   "cell_type": "code",
   "execution_count": 4,
   "id": "03e16dd1",
   "metadata": {},
   "outputs": [],
   "source": [
    "df = pd.read_csv(DATA_PATH, low_memory=False)"
   ]
  },
  {
   "cell_type": "code",
   "execution_count": 5,
   "id": "d383ae89",
   "metadata": {},
   "outputs": [],
   "source": [
    "df.columns = df.columns.str.strip().str.lower().str.replace(' ', '_')"
   ]
  },
  {
   "cell_type": "code",
   "execution_count": 6,
   "id": "7000154f",
   "metadata": {},
   "outputs": [],
   "source": [
    "# 4a. Identify common delay columns from Week 1\n",
    "delay_cols = [\n",
    "    'carrierdelay', 'weatherdelay', 'nasdelay',\n",
    "    'securitydelay', 'LateAircraftDelay'\n",
    "]\n",
    "\n",
    "# If names differ, adapt to actual column names in your CSV (use df.columns)\n",
    "existing_delay_cols = [c for c in delay_cols if c in df.columns]\n",
    "\n",
    "# Fill delay reason NaNs with 0\n",
    "df[existing_delay_cols] = df[existing_delay_cols].fillna(0)\n",
    "\n",
    "# 4b. Cancellation column\n",
    "if 'cancellation_code' in df.columns:\n",
    "    df['cancellation_code'] = df['cancellation_code'].fillna('NONE')\n",
    "else:\n",
    "    # sometimes column is 'canc_code' or similar - keep safe\n",
    "    pass\n",
    "\n",
    "# 4c. Small-missing numeric fields: use median\n",
    "small_missing_num = ['actualelapsedtime', 'airtime', 'arrdelay', 'deptime', 'arrtime', 'taxiin', 'taxiout']\n",
    "small_missing_num = [c for c in small_missing_num if c in df.columns]\n",
    "for c in small_missing_num:\n",
    "    if df[c].isna().mean() > 0 and df[c].isna().mean() <= 0.05:\n",
    "        df[c] = df[c].fillna(df[c].median())\n"
   ]
  },
  {
   "cell_type": "code",
   "execution_count": 7,
   "id": "7e1649c7",
   "metadata": {},
   "outputs": [],
   "source": [
    "df['any_delay_reason'] = (df[existing_delay_cols].sum(axis=1) > 0).astype('int8')\n"
   ]
  },
  {
   "cell_type": "code",
   "execution_count": 8,
   "id": "a49dc314",
   "metadata": {},
   "outputs": [],
   "source": [
    "def hhmm_to_time_str(x):\n",
    "    if pd.isna(x): return np.nan\n",
    "    # Some values might be floats (e.g., 930.0)\n",
    "    try:\n",
    "        x = int(x)\n",
    "    except:\n",
    "        return np.nan\n",
    "    h = x // 100\n",
    "    m = x % 100\n",
    "    if h >= 24 or m >= 60:  # handle malformed\n",
    "        return np.nan\n",
    "    return f\"{h:02d}:{m:02d}\"\n"
   ]
  },
  {
   "cell_type": "code",
   "execution_count": 9,
   "id": "b1ca757d",
   "metadata": {},
   "outputs": [],
   "source": [
    "# Create fl_date from Year, Month, DayofMonth\n",
    "if 'year' in df.columns and 'month' in df.columns and 'dayofmonth' in df.columns:\n",
    "    df['fl_date'] = pd.to_datetime(\n",
    "        df[['year', 'month', 'dayofmonth']].rename(columns={\n",
    "            'year': 'year', 'month': 'month', 'dayofmonth': 'day'\n",
    "        }), \n",
    "        errors='coerce'\n",
    "    )\n",
    "elif 'fl_date' in df.columns:\n",
    "    df['fl_date'] = pd.to_datetime(df['fl_date'], errors='coerce')\n",
    "else:\n",
    "    print(\"Warning: Could not find date columns\")\n",
    "\n",
    "# convert dep/arr times\n",
    "for tcol, outcol in [('deptime', 'dep_time_str'), ('arrtime', 'arr_time_str')]:\n",
    "    if tcol in df.columns:\n",
    "        df[outcol] = df[tcol].apply(hhmm_to_time_str)\n",
    "\n",
    "# combine\n",
    "if 'dep_time_str' in df.columns and 'fl_date' in df.columns:\n",
    "    df['dep_datetime'] = pd.to_datetime(\n",
    "        df['fl_date'].dt.strftime('%Y-%m-%d') + ' ' + df['dep_time_str'],\n",
    "        errors='coerce'\n",
    "    )\n",
    "if 'arr_time_str' in df.columns and 'fl_date' in df.columns:\n",
    "    df['arr_datetime'] = pd.to_datetime(\n",
    "        df['fl_date'].dt.strftime('%Y-%m-%d') + ' ' + df['arr_time_str'],\n",
    "        errors='coerce'\n",
    "    )\n",
    "\n",
    "# If arrival passes midnight (arr < dep), you may need logic to add one day:\n",
    "if 'dep_datetime' in df.columns and 'arr_datetime' in df.columns:\n",
    "    mask_nextday = (df['dep_datetime'].notna() & df['arr_datetime'].notna() &\n",
    "                    (df['arr_datetime'] < df['dep_datetime']))\n",
    "    df.loc[mask_nextday, 'arr_datetime'] += pd.Timedelta(days=1)\n"
   ]
  },
  {
   "cell_type": "code",
   "execution_count": 10,
   "id": "e4421bd9",
   "metadata": {},
   "outputs": [],
   "source": [
    "# MONTH, DAY_OF_WEEK\n",
    "df['month'] = df['fl_date'].dt.month.astype('Int8')\n",
    "df['day_of_week'] = df['fl_date'].dt.day_name()\n",
    "\n",
    "# HOUR (use scheduled departure hour if present)\n",
    "if 'dep_datetime' in df.columns:\n",
    "    df['dep_hour'] = df['dep_datetime'].dt.hour.astype('Int8')\n",
    "elif 'crsdeptime' in df.columns:\n",
    "    # crsdeptime = scheduled time\n",
    "    df['dep_hour'] = df['crsdeptime'].apply(hhmm_to_time_str).pipe(pd.to_datetime, errors='coerce').dt.hour\n",
    "\n",
    "# ROUTE\n",
    "if 'origin' in df.columns and 'dest' in df.columns:\n",
    "    df['route'] = df['origin'].astype(str) + '-' + df['dest'].astype(str)\n",
    "\n",
    "# IS_DELAYED flag: common threshold = arrival delay > 15 minutes\n",
    "if 'arrdelay' in df.columns:\n",
    "    df['is_delayed'] = (df['arrdelay'] > 15).astype('int8')\n",
    "else:\n",
    "    # fallback using any_delay_reason\n",
    "    df['is_delayed'] = df['any_delay_reason'].astype('int8')\n"
   ]
  },
  {
   "cell_type": "code",
   "execution_count": 11,
   "id": "b76b07e4",
   "metadata": {},
   "outputs": [],
   "source": [
    "# Extra useful features:\n",
    "\n",
    "# Delay magnitude (total delay)\n",
    "df['total_delay_minutes'] = df[existing_delay_cols].sum(axis=1)\n",
    "\n",
    "# departure delay flag\n",
    "if 'depdelay' in df.columns:\n",
    "    df['dep_delayed'] = (df['depdelay'] > 15).astype('int8')\n",
    "\n",
    "# flight duration from datetimes if available\n",
    "if 'dep_datetime' in df.columns and 'arr_datetime' in df.columns:\n",
    "    df['scheduled_duration_min'] = (df['arr_datetime'] - df['dep_datetime']).dt.total_seconds() / 60\n",
    "    # if elapsed time exists use actualelapsedtime\n",
    "    if 'actualelapsedtime' in df.columns:\n",
    "        df['actual_duration_min'] = df['actualelapsedtime']\n"
   ]
  },
  {
   "cell_type": "code",
   "execution_count": 12,
   "id": "8cbf1629",
   "metadata": {},
   "outputs": [
    {
     "name": "stdout",
     "output_type": "stream",
     "text": [
      "Memory BEFORE optimization (MB): 1475.8556070327759\n"
     ]
    }
   ],
   "source": [
    "# Memory usage before optimization\n",
    "print(\"Memory BEFORE optimization (MB):\", df.memory_usage(deep=True).sum() / 1024**2)\n"
   ]
  },
  {
   "cell_type": "code",
   "execution_count": 13,
   "id": "c4a46b78",
   "metadata": {},
   "outputs": [],
   "source": [
    "# convert low-cardinality strings to category\n",
    "cat_columns = ['uniquecarrier', 'origin', 'dest', 'cancellation_code', 'route', 'day_of_week']\n",
    "cat_columns = [c for c in cat_columns if c in df.columns]\n",
    "for c in cat_columns:\n",
    "    df[c] = df[c].astype('category')\n",
    "\n",
    "# downcast numeric columns\n",
    "for c in df.select_dtypes(include=['int64']).columns:\n",
    "    df[c] = pd.to_numeric(df[c], downcast='signed')\n",
    "for c in df.select_dtypes(include=['float64']).columns:\n",
    "    df[c] = pd.to_numeric(df[c], downcast='float')\n"
   ]
  },
  {
   "cell_type": "code",
   "execution_count": 14,
   "id": "8d9b7289",
   "metadata": {},
   "outputs": [
    {
     "name": "stdout",
     "output_type": "stream",
     "text": [
      "Memory AFTER optimization (MB): 683.8420162200928\n"
     ]
    }
   ],
   "source": [
    "# Memory usage after optimization\n",
    "print(\"Memory AFTER optimization (MB):\", df.memory_usage(deep=True).sum() / 1024**2)\n"
   ]
  },
  {
   "cell_type": "markdown",
   "id": "fa999117",
   "metadata": {},
   "source": [
    "### 8️⃣ Validation Checks (Sanity Tests)"
   ]
  },
  {
   "cell_type": "code",
   "execution_count": 15,
   "id": "6fa40d1b",
   "metadata": {},
   "outputs": [
    {
     "name": "stdout",
     "output_type": "stream",
     "text": [
      "✅ All delay reason columns have no NaNs\n",
      "\n",
      "📊 Key Metrics:\n",
      "Delay > 15 min %: 63.17%\n",
      "Any delay reason present %: 54.78%\n"
     ]
    }
   ],
   "source": [
    "# No NaNs in delay reason columns\n",
    "for c in existing_delay_cols:\n",
    "    assert df[c].isna().sum() == 0, f\"{c} still has NAs\"\n",
    "\n",
    "print(\"✅ All delay reason columns have no NaNs\")\n",
    "\n",
    "# Cancellation code filled\n",
    "if 'cancellation_code' in df.columns:\n",
    "    print(\"\\nCancellation unique values:\")\n",
    "    print(df['cancellation_code'].value_counts().head())\n",
    "\n",
    "# Basic distributions\n",
    "print(\"\\n📊 Key Metrics:\")\n",
    "print(f\"Delay > 15 min %: {df['is_delayed'].mean() * 100:.2f}%\")\n",
    "print(f\"Any delay reason present %: {df['any_delay_reason'].mean() * 100:.2f}%\")\n"
   ]
  },
  {
   "cell_type": "markdown",
   "id": "d350a735",
   "metadata": {},
   "source": [
    "### 9️⃣ Save Processed Dataset for Fast Reuse"
   ]
  },
  {
   "cell_type": "code",
   "execution_count": 16,
   "id": "46d8242d",
   "metadata": {},
   "outputs": [
    {
     "name": "stdout",
     "output_type": "stream",
     "text": [
      "✅ Saved main processed file: delayedflights_2008_processed.parquet\n"
     ]
    }
   ],
   "source": [
    "# Single parquet file (fast and compressed)\n",
    "df.to_parquet(OUT_DIR / \"delayedflights_2008_processed.parquet\", index=False)\n",
    "print(\"✅ Saved main processed file: delayedflights_2008_processed.parquet\")\n",
    "\n",
    "# Save partitioned by month (good for later chunked read)\n",
    "# df.to_parquet(OUT_DIR / \"delayedflights_2008_by_month.parquet\", index=False, partition_cols=['month'])\n",
    "# print(\"✅ Saved partitioned file: delayedflights_2008_by_month.parquet\")\n"
   ]
  },
  {
   "cell_type": "code",
   "execution_count": 17,
   "id": "f6cf7b25",
   "metadata": {},
   "outputs": [
    {
     "name": "stdout",
     "output_type": "stream",
     "text": [
      "✅ Saved sample file: sample_10k.parquet (10,000 rows)\n"
     ]
    }
   ],
   "source": [
    "# Save a small sample for quick prototyping\n",
    "df.sample(10000, random_state=42).to_parquet(OUT_DIR / \"sample_10k.parquet\", index=False)\n",
    "print(\"✅ Saved sample file: sample_10k.parquet (10,000 rows)\")\n"
   ]
  },
  {
   "cell_type": "code",
   "execution_count": 18,
   "id": "8ff399e7",
   "metadata": {},
   "outputs": [
    {
     "name": "stdout",
     "output_type": "stream",
     "text": [
      "\n",
      "📁 Saved Files Summary:\n",
      "--------------------------------------------------\n",
      "delayedflights_2008_processed.parquet: 83.92 MB\n",
      "sample_10k.parquet: 0.70 MB\n"
     ]
    }
   ],
   "source": [
    "# Display file information\n",
    "import os\n",
    "\n",
    "print(\"\\n📁 Saved Files Summary:\")\n",
    "print(\"-\" * 50)\n",
    "for file in OUT_DIR.glob(\"*.parquet\"):\n",
    "    file_size = os.path.getsize(file) / 1024**2  # MB\n",
    "    print(f\"{file.name}: {file_size:.2f} MB\")\n"
   ]
  },
  {
   "cell_type": "code",
   "execution_count": 19,
   "id": "3476f01f",
   "metadata": {},
   "outputs": [
    {
     "name": "stdout",
     "output_type": "stream",
     "text": [
      "📖 FEATURE DICTIONARY\n",
      "========================================================================================================================\n",
      "          Feature Name  Data Type                                                                Description\n",
      "               fl_date   datetime                                                   Flight date (YYYY-MM-DD)\n",
      "          dep_datetime   datetime                            Combined departure datetime (fl_date + deptime)\n",
      "          arr_datetime   datetime Combined arrival datetime (fl_date + arrtime, +1 day if crossing midnight)\n",
      "                 month int (1–12)                                                            Month of flight\n",
      "           day_of_week   category                                           Day name (Monday, Tuesday, etc.)\n",
      "              dep_hour int (0–23)                                                             Departure hour\n",
      "                origin   category                                            Origin airport code (e.g., JFK)\n",
      "                  dest   category                                       Destination airport code (e.g., LAX)\n",
      "                 route   category                                    Origin-Destination pair (e.g., JFK-LAX)\n",
      "          carrierdelay      float                                       Minutes of carrier delay (0 if none)\n",
      "          weatherdelay      float                                       Minutes of weather delay (0 if none)\n",
      "              nasdelay      float                                           Minutes of NAS delay (0 if none)\n",
      "         securitydelay      float                                      Minutes of security delay (0 if none)\n",
      "     lateaircraftdelay      float                                 Minutes of late aircraft delay (0 if none)\n",
      "   total_delay_minutes      float                                                   Sum of all reason delays\n",
      "      any_delay_reason int8 (0/1)                                              Any delay reason present flag\n",
      "            is_delayed int8 (0/1)                                            Arrival delay > 15 minutes flag\n",
      "           dep_delayed int8 (0/1)                                          Departure delay > 15 minutes flag\n",
      "     cancellation_code   category            'NONE' when not cancelled; other codes for cancellation reasons\n",
      "scheduled_duration_min      float                                 Duration computed from datetimes (minutes)\n",
      "   actual_duration_min      float                                   Actual elapsed time if present (minutes)\n",
      "\n",
      "========================================================================================================================\n",
      "Total Features Documented: 21\n"
     ]
    }
   ],
   "source": [
    "# Create comprehensive feature dictionary\n",
    "feature_dict = {\n",
    "    'Feature Name': [\n",
    "        'fl_date',\n",
    "        'dep_datetime',\n",
    "        'arr_datetime',\n",
    "        'month',\n",
    "        'day_of_week',\n",
    "        'dep_hour',\n",
    "        'origin',\n",
    "        'dest',\n",
    "        'route',\n",
    "        'carrierdelay',\n",
    "        'weatherdelay',\n",
    "        'nasdelay',\n",
    "        'securitydelay',\n",
    "        'lateaircraftdelay',\n",
    "        'total_delay_minutes',\n",
    "        'any_delay_reason',\n",
    "        'is_delayed',\n",
    "        'dep_delayed',\n",
    "        'cancellation_code',\n",
    "        'scheduled_duration_min',\n",
    "        'actual_duration_min'\n",
    "    ],\n",
    "    'Data Type': [\n",
    "        'datetime',\n",
    "        'datetime',\n",
    "        'datetime',\n",
    "        'int (1–12)',\n",
    "        'category',\n",
    "        'int (0–23)',\n",
    "        'category',\n",
    "        'category',\n",
    "        'category',\n",
    "        'float',\n",
    "        'float',\n",
    "        'float',\n",
    "        'float',\n",
    "        'float',\n",
    "        'float',\n",
    "        'int8 (0/1)',\n",
    "        'int8 (0/1)',\n",
    "        'int8 (0/1)',\n",
    "        'category',\n",
    "        'float',\n",
    "        'float'\n",
    "    ],\n",
    "    'Description': [\n",
    "        'Flight date (YYYY-MM-DD)',\n",
    "        'Combined departure datetime (fl_date + deptime)',\n",
    "        'Combined arrival datetime (fl_date + arrtime, +1 day if crossing midnight)',\n",
    "        'Month of flight',\n",
    "        'Day name (Monday, Tuesday, etc.)',\n",
    "        'Departure hour',\n",
    "        'Origin airport code (e.g., JFK)',\n",
    "        'Destination airport code (e.g., LAX)',\n",
    "        'Origin-Destination pair (e.g., JFK-LAX)',\n",
    "        'Minutes of carrier delay (0 if none)',\n",
    "        'Minutes of weather delay (0 if none)',\n",
    "        'Minutes of NAS delay (0 if none)',\n",
    "        'Minutes of security delay (0 if none)',\n",
    "        'Minutes of late aircraft delay (0 if none)',\n",
    "        'Sum of all reason delays',\n",
    "        'Any delay reason present flag',\n",
    "        'Arrival delay > 15 minutes flag',\n",
    "        'Departure delay > 15 minutes flag',\n",
    "        \"'NONE' when not cancelled; other codes for cancellation reasons\",\n",
    "        'Duration computed from datetimes (minutes)',\n",
    "        'Actual elapsed time if present (minutes)'\n",
    "    ]\n",
    "}\n",
    "\n",
    "feature_df = pd.DataFrame(feature_dict)\n",
    "print(\"📖 FEATURE DICTIONARY\")\n",
    "print(\"=\" * 120)\n",
    "print(feature_df.to_string(index=False))\n",
    "print(\"\\n\" + \"=\" * 120)\n",
    "print(f\"Total Features Documented: {len(feature_df)}\")\n"
   ]
  },
  {
   "cell_type": "code",
   "execution_count": 20,
   "id": "e7c8eb53",
   "metadata": {},
   "outputs": [
    {
     "name": "stdout",
     "output_type": "stream",
     "text": [
      "📈 PREPROCESSING SUMMARY\n",
      "================================================================================\n",
      "📁 Dataset: DelayedFlights (2008)\n",
      "📊 Total Records: 1,936,758\n",
      "📋 Total Columns: 44\n",
      "💾 Final Memory Usage: 683.84 MB\n",
      "🔢 Features Engineered: 13\n",
      "\n",
      "✅ Missing Values Handled: 4 delay columns + cancellation codes\n",
      "✅ Datetime Features: 3 (fl_date, dep_datetime, arr_datetime)\n",
      "✅ Temporal Features: 3 (month, day_of_week, dep_hour)\n",
      "✅ Categorical Features: 4 (origin, dest, route, day_of_week)\n",
      "✅ Delay Indicators: 4 (is_delayed, any_delay_reason, dep_delayed, total_delay_minutes)\n",
      "✅ Duration Features: 2 (scheduled_duration_min, actual_duration_min)\n",
      "================================================================================\n",
      "💾 Final Memory Usage: 683.84 MB\n",
      "🔢 Features Engineered: 13\n",
      "\n",
      "✅ Missing Values Handled: 4 delay columns + cancellation codes\n",
      "✅ Datetime Features: 3 (fl_date, dep_datetime, arr_datetime)\n",
      "✅ Temporal Features: 3 (month, day_of_week, dep_hour)\n",
      "✅ Categorical Features: 4 (origin, dest, route, day_of_week)\n",
      "✅ Delay Indicators: 4 (is_delayed, any_delay_reason, dep_delayed, total_delay_minutes)\n",
      "✅ Duration Features: 2 (scheduled_duration_min, actual_duration_min)\n",
      "================================================================================\n"
     ]
    }
   ],
   "source": [
    "# Final summary statistics\n",
    "print(\"📈 PREPROCESSING SUMMARY\")\n",
    "print(\"=\" * 80)\n",
    "print(f\"📁 Dataset: DelayedFlights (2008)\")\n",
    "print(f\"📊 Total Records: {len(df):,}\")\n",
    "print(f\"📋 Total Columns: {len(df.columns)}\")\n",
    "print(f\"💾 Final Memory Usage: {df.memory_usage(deep=True).sum() / 1024**2:.2f} MB\")\n",
    "print(f\"🔢 Features Engineered: {len(['fl_date', 'dep_datetime', 'arr_datetime', 'month', 'day_of_week', 'dep_hour', 'route', 'total_delay_minutes', 'any_delay_reason', 'is_delayed', 'dep_delayed', 'scheduled_duration_min', 'actual_duration_min'])}\")\n",
    "print(f\"\\n✅ Missing Values Handled: {len(existing_delay_cols)} delay columns + cancellation codes\")\n",
    "print(f\"✅ Datetime Features: 3 (fl_date, dep_datetime, arr_datetime)\")\n",
    "print(f\"✅ Temporal Features: 3 (month, day_of_week, dep_hour)\")\n",
    "print(f\"✅ Categorical Features: 4 (origin, dest, route, day_of_week)\")\n",
    "print(f\"✅ Delay Indicators: 4 (is_delayed, any_delay_reason, dep_delayed, total_delay_minutes)\")\n",
    "print(f\"✅ Duration Features: 2 (scheduled_duration_min, actual_duration_min)\")\n",
    "print(\"=\" * 80)"
   ]
  }
 ],
 "metadata": {
  "kernelspec": {
   "display_name": "autoflow",
   "language": "python",
   "name": "python3"
  },
  "language_info": {
   "codemirror_mode": {
    "name": "ipython",
    "version": 3
   },
   "file_extension": ".py",
   "mimetype": "text/x-python",
   "name": "python",
   "nbconvert_exporter": "python",
   "pygments_lexer": "ipython3",
   "version": "3.11.13"
  }
 },
 "nbformat": 4,
 "nbformat_minor": 5
}
